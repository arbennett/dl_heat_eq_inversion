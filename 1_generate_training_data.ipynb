{
 "cells": [
  {
   "cell_type": "code",
   "execution_count": null,
   "metadata": {},
   "outputs": [],
   "source": [
    "import dask\n",
    "import numpy as np\n",
    "import xarray as xr\n",
    "\n",
    "from dask import distributed\n",
    "from scipy.stats import norm"
   ]
  },
  {
   "cell_type": "code",
   "execution_count": null,
   "metadata": {},
   "outputs": [],
   "source": [
    "def generate_diffusivity_function(n, x, offset=0.5):\n",
    "    cdf_values = np.zeros(len(x))\n",
    "    for _ in range(n):\n",
    "        mean = np.max(x) * np.random.rand()\n",
    "        variance = 0.05  * np.random.rand() + 0.01\n",
    "        cdf_values = cdf_values + norm.pdf(x, loc=mean, scale=np.sqrt(variance))\n",
    "    cdf_values = cdf_values / n\n",
    "    return cdf_values + offset\n",
    "\n",
    "\n",
    "def solve_heat_equation(u, alpha_x, dt, dx, Nt, T0, TL):    \n",
    "    Nx = len(u)\n",
    "    for _ in range(Nt):\n",
    "        A = np.zeros((Nx-2, Nx-2))\n",
    "        b = np.zeros(Nx-2)\n",
    "\n",
    "        for i in range(1, Nx-1):\n",
    "            alpha_avg_left = 0.5 * (alpha_x[i-1] + alpha_x[i])\n",
    "            alpha_avg_right = 0.5 * (alpha_x[i] + alpha_x[i+1])\n",
    "\n",
    "            A[i-1, i-1] = 1 + dt/dx**2 * (alpha_avg_left + alpha_avg_right)/2\n",
    "            if i != 1:\n",
    "                A[i-1, i-2] = -alpha_avg_left * dt/(2*dx**2)\n",
    "            if i != Nx-2:\n",
    "                A[i-1, i] = -alpha_avg_right * dt/(2*dx**2)\n",
    "\n",
    "            b[i-1] = (\n",
    "                u[i] \n",
    "                + alpha_x[i+1] * u[i+1] * dt/(2*dx**2) \n",
    "                + alpha_x[i-1] * u[i-1] * dt/(2*dx**2)\n",
    "                - 2 * alpha_x[i] * u[i] * dt/(2*dx**2)\n",
    "            )\n",
    "        b[0] += alpha_x[0] * T0 * dt/(2*dx**2)\n",
    "        b[-1] += alpha_x[-1] * TL * dt/(2*dx**2)\n",
    "        u[1:-1] = np.linalg.solve(A, b)\n",
    "    return u\n",
    "\n",
    "\n",
    "def generate_training_sample(\n",
    "    max_diffusivity_components=2,\n",
    "    L=1.0,\n",
    "    Nx=100,\n",
    "    Tmax=10,\n",
    "    dt=0.001,\n",
    "):\n",
    "    dx = L / (Nx-1) \n",
    "    Nt = int(Tmax / dt) \n",
    "    x = np.linspace(0, L, Nx)\n",
    "\n",
    "    n = np.random.choice(np.arange(1, max_diffusivity_components+1))\n",
    "    d = generate_diffusivity_function(n, x)\n",
    "    T0 = d.min()\n",
    "    TL = d.max()\n",
    "    u = np.ones(Nx) * T0\n",
    "    u[0], u[-1] = T0, TL\n",
    "\n",
    "    u = solve_heat_equation(u, d, dt, dx, Nt, T0, TL)\n",
    "    return u, d\n",
    "\n",
    "def generate_training_data(N=1000, workers=64):\n",
    "    cluster = distributed.LocalCluster(n_workers=workers, threads_per_worker=2)\n",
    "    client = distributed.Client(cluster)\n",
    "\n",
    "    delayed_fun = dask.delayed(generate_training_sample)\n",
    "    results = dask.compute([delayed_fun() for _ in range(N)])[0]\n",
    "    u_values, d_values = zip(*results)\n",
    "\n",
    "    u_values = xr.DataArray(np.array(u_values), dims=('sample', 'x'), name='u')\n",
    "    d_values = xr.DataArray(np.array(d_values), dims=('sample', 'x'), name='d')\n",
    "    return xr.Dataset({'u': u_values, 'd': d_values})\n"
   ]
  },
  {
   "cell_type": "code",
   "execution_count": null,
   "metadata": {},
   "outputs": [],
   "source": [
    "ds = generate_training_data(N=3000).astype(np.float32)\n",
    "ds.to_netcdf('training_data.nc')"
   ]
  },
  {
   "cell_type": "code",
   "execution_count": null,
   "metadata": {},
   "outputs": [],
   "source": [
    "ds = generate_training_data(N=1000).astype(np.float32)\n",
    "ds.to_netcdf('validation_data.nc')"
   ]
  },
  {
   "cell_type": "code",
   "execution_count": null,
   "metadata": {},
   "outputs": [],
   "source": [
    "ds = generate_training_data(N=1000).astype(np.float32)\n",
    "ds.to_netcdf('testing_data.nc')"
   ]
  },
  {
   "cell_type": "code",
   "execution_count": null,
   "metadata": {},
   "outputs": [],
   "source": []
  },
  {
   "cell_type": "code",
   "execution_count": null,
   "metadata": {},
   "outputs": [],
   "source": []
  },
  {
   "cell_type": "code",
   "execution_count": null,
   "metadata": {},
   "outputs": [],
   "source": []
  }
 ],
 "metadata": {
  "kernelspec": {
   "display_name": "all",
   "language": "python",
   "name": "python3"
  },
  "language_info": {
   "codemirror_mode": {
    "name": "ipython",
    "version": 3
   },
   "file_extension": ".py",
   "mimetype": "text/x-python",
   "name": "python",
   "nbconvert_exporter": "python",
   "pygments_lexer": "ipython3",
   "version": "3.10.13"
  }
 },
 "nbformat": 4,
 "nbformat_minor": 2
}
